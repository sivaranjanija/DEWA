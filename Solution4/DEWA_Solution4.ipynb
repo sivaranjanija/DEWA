{
 "cells": [
  {
   "cell_type": "markdown",
   "metadata": {},
   "source": [
    "# DEWA Submission"
   ]
  },
  {
   "cell_type": "markdown",
   "metadata": {},
   "source": [
    "**Problem 4:** You are provided with two excel files as input and output. You need to find a way to map the\n",
    "inputs to the respective outputs with minimum possible error. We need to see your code with\n",
    "results and your problem-solving journey. You may explain which techniques you applied and\n",
    "the reasons for using the selected technique.\n"
   ]
  },
  {
   "cell_type": "markdown",
   "metadata": {},
   "source": [
    "**Solution:**"
   ]
  },
  {
   "cell_type": "markdown",
   "metadata": {},
   "source": [
    "## Import libraries"
   ]
  },
  {
   "cell_type": "code",
   "execution_count": 35,
   "metadata": {},
   "outputs": [],
   "source": [
    "import pandas as pd\n",
    "import numpy as np\n",
    "from numpy.random import seed\n",
    "from numpy.random import randn\n",
    "from numpy import exp\n",
    "import scipy\n",
    "import matplotlib as pyplot\n",
    "import matplotlib.pyplot as plt\n",
    "from sklearn.preprocessing import PolynomialFeatures\n",
    "from sklearn import linear_model\n",
    "from sklearn.model_selection import train_test_split\n",
    "from sklearn.pipeline import make_pipeline\n",
    "from sklearn.preprocessing import StandardScaler\n",
    "from sklearn.decomposition import PCA"
   ]
  },
  {
   "cell_type": "markdown",
   "metadata": {},
   "source": [
    "## Load input and output files\n",
    "The input and output datasets are observed to be without headers"
   ]
  },
  {
   "cell_type": "code",
   "execution_count": 2,
   "metadata": {},
   "outputs": [],
   "source": [
    "inputData = pd.read_excel(\"data/input.xlsx\", header=None)\n",
    "outputData = pd.read_excel(\"data/output.xlsx\", header=None)"
   ]
  },
  {
   "cell_type": "markdown",
   "metadata": {},
   "source": [
    "## Exploratory Data Analysis"
   ]
  },
  {
   "cell_type": "code",
   "execution_count": 3,
   "metadata": {},
   "outputs": [
    {
     "data": {
      "text/html": [
       "<div>\n",
       "<style scoped>\n",
       "    .dataframe tbody tr th:only-of-type {\n",
       "        vertical-align: middle;\n",
       "    }\n",
       "\n",
       "    .dataframe tbody tr th {\n",
       "        vertical-align: top;\n",
       "    }\n",
       "\n",
       "    .dataframe thead th {\n",
       "        text-align: right;\n",
       "    }\n",
       "</style>\n",
       "<table border=\"1\" class=\"dataframe\">\n",
       "  <thead>\n",
       "    <tr style=\"text-align: right;\">\n",
       "      <th></th>\n",
       "      <th>0</th>\n",
       "      <th>1</th>\n",
       "      <th>2</th>\n",
       "      <th>3</th>\n",
       "      <th>4</th>\n",
       "      <th>5</th>\n",
       "      <th>6</th>\n",
       "      <th>7</th>\n",
       "      <th>8</th>\n",
       "      <th>9</th>\n",
       "      <th>...</th>\n",
       "      <th>13</th>\n",
       "      <th>14</th>\n",
       "      <th>15</th>\n",
       "      <th>16</th>\n",
       "      <th>17</th>\n",
       "      <th>18</th>\n",
       "      <th>19</th>\n",
       "      <th>20</th>\n",
       "      <th>21</th>\n",
       "      <th>22</th>\n",
       "    </tr>\n",
       "  </thead>\n",
       "  <tbody>\n",
       "    <tr>\n",
       "      <th>0</th>\n",
       "      <td>4.3857</td>\n",
       "      <td>4.5971</td>\n",
       "      <td>0.14438</td>\n",
       "      <td>18.604</td>\n",
       "      <td>3.7845</td>\n",
       "      <td>342.29</td>\n",
       "      <td>56.62</td>\n",
       "      <td>3.5222</td>\n",
       "      <td>19.843</td>\n",
       "      <td>20.142</td>\n",
       "      <td>...</td>\n",
       "      <td>0.19089</td>\n",
       "      <td>19.954</td>\n",
       "      <td>3.8798</td>\n",
       "      <td>934.90</td>\n",
       "      <td>636.410</td>\n",
       "      <td>4.8922</td>\n",
       "      <td>19.530</td>\n",
       "      <td>18.111</td>\n",
       "      <td>1.47050</td>\n",
       "      <td>73.668</td>\n",
       "    </tr>\n",
       "    <tr>\n",
       "      <th>1</th>\n",
       "      <td>4.0224</td>\n",
       "      <td>5.1557</td>\n",
       "      <td>0.49634</td>\n",
       "      <td>16.306</td>\n",
       "      <td>2.5091</td>\n",
       "      <td>186.37</td>\n",
       "      <td>947.34</td>\n",
       "      <td>3.3883</td>\n",
       "      <td>18.557</td>\n",
       "      <td>20.165</td>\n",
       "      <td>...</td>\n",
       "      <td>0.76118</td>\n",
       "      <td>14.977</td>\n",
       "      <td>3.1384</td>\n",
       "      <td>593.65</td>\n",
       "      <td>85.344</td>\n",
       "      <td>3.9828</td>\n",
       "      <td>21.108</td>\n",
       "      <td>18.535</td>\n",
       "      <td>2.26050</td>\n",
       "      <td>83.412</td>\n",
       "    </tr>\n",
       "    <tr>\n",
       "      <th>2</th>\n",
       "      <td>4.1854</td>\n",
       "      <td>5.3730</td>\n",
       "      <td>0.14551</td>\n",
       "      <td>18.649</td>\n",
       "      <td>2.7634</td>\n",
       "      <td>281.59</td>\n",
       "      <td>543.41</td>\n",
       "      <td>3.4434</td>\n",
       "      <td>21.681</td>\n",
       "      <td>19.428</td>\n",
       "      <td>...</td>\n",
       "      <td>0.81330</td>\n",
       "      <td>17.778</td>\n",
       "      <td>3.8078</td>\n",
       "      <td>664.12</td>\n",
       "      <td>547.280</td>\n",
       "      <td>2.7157</td>\n",
       "      <td>18.389</td>\n",
       "      <td>21.325</td>\n",
       "      <td>1.57440</td>\n",
       "      <td>60.681</td>\n",
       "    </tr>\n",
       "    <tr>\n",
       "      <th>3</th>\n",
       "      <td>4.1088</td>\n",
       "      <td>4.6845</td>\n",
       "      <td>0.69137</td>\n",
       "      <td>19.841</td>\n",
       "      <td>2.4890</td>\n",
       "      <td>853.99</td>\n",
       "      <td>901.33</td>\n",
       "      <td>6.0265</td>\n",
       "      <td>21.009</td>\n",
       "      <td>19.037</td>\n",
       "      <td>...</td>\n",
       "      <td>0.77738</td>\n",
       "      <td>16.843</td>\n",
       "      <td>4.4791</td>\n",
       "      <td>929.19</td>\n",
       "      <td>24.253</td>\n",
       "      <td>5.3745</td>\n",
       "      <td>19.865</td>\n",
       "      <td>20.365</td>\n",
       "      <td>0.67419</td>\n",
       "      <td>85.007</td>\n",
       "    </tr>\n",
       "    <tr>\n",
       "      <th>4</th>\n",
       "      <td>4.1219</td>\n",
       "      <td>4.7164</td>\n",
       "      <td>0.33715</td>\n",
       "      <td>17.289</td>\n",
       "      <td>2.4982</td>\n",
       "      <td>915.86</td>\n",
       "      <td>670.69</td>\n",
       "      <td>5.7129</td>\n",
       "      <td>18.732</td>\n",
       "      <td>18.564</td>\n",
       "      <td>...</td>\n",
       "      <td>0.37566</td>\n",
       "      <td>14.136</td>\n",
       "      <td>2.0574</td>\n",
       "      <td>506.78</td>\n",
       "      <td>787.170</td>\n",
       "      <td>5.5722</td>\n",
       "      <td>21.737</td>\n",
       "      <td>21.181</td>\n",
       "      <td>2.95900</td>\n",
       "      <td>35.751</td>\n",
       "    </tr>\n",
       "  </tbody>\n",
       "</table>\n",
       "<p>5 rows × 23 columns</p>\n",
       "</div>"
      ],
      "text/plain": [
       "       0       1        2       3       4       5       6       7       8   \\\n",
       "0  4.3857  4.5971  0.14438  18.604  3.7845  342.29   56.62  3.5222  19.843   \n",
       "1  4.0224  5.1557  0.49634  16.306  2.5091  186.37  947.34  3.3883  18.557   \n",
       "2  4.1854  5.3730  0.14551  18.649  2.7634  281.59  543.41  3.4434  21.681   \n",
       "3  4.1088  4.6845  0.69137  19.841  2.4890  853.99  901.33  6.0265  21.009   \n",
       "4  4.1219  4.7164  0.33715  17.289  2.4982  915.86  670.69  5.7129  18.732   \n",
       "\n",
       "       9   ...       13      14      15      16       17      18      19  \\\n",
       "0  20.142  ...  0.19089  19.954  3.8798  934.90  636.410  4.8922  19.530   \n",
       "1  20.165  ...  0.76118  14.977  3.1384  593.65   85.344  3.9828  21.108   \n",
       "2  19.428  ...  0.81330  17.778  3.8078  664.12  547.280  2.7157  18.389   \n",
       "3  19.037  ...  0.77738  16.843  4.4791  929.19   24.253  5.3745  19.865   \n",
       "4  18.564  ...  0.37566  14.136  2.0574  506.78  787.170  5.5722  21.737   \n",
       "\n",
       "       20       21      22  \n",
       "0  18.111  1.47050  73.668  \n",
       "1  18.535  2.26050  83.412  \n",
       "2  21.325  1.57440  60.681  \n",
       "3  20.365  0.67419  85.007  \n",
       "4  21.181  2.95900  35.751  \n",
       "\n",
       "[5 rows x 23 columns]"
      ]
     },
     "execution_count": 3,
     "metadata": {},
     "output_type": "execute_result"
    }
   ],
   "source": [
    "inputData.head()"
   ]
  },
  {
   "cell_type": "code",
   "execution_count": 4,
   "metadata": {},
   "outputs": [
    {
     "data": {
      "text/html": [
       "<div>\n",
       "<style scoped>\n",
       "    .dataframe tbody tr th:only-of-type {\n",
       "        vertical-align: middle;\n",
       "    }\n",
       "\n",
       "    .dataframe tbody tr th {\n",
       "        vertical-align: top;\n",
       "    }\n",
       "\n",
       "    .dataframe thead th {\n",
       "        text-align: right;\n",
       "    }\n",
       "</style>\n",
       "<table border=\"1\" class=\"dataframe\">\n",
       "  <thead>\n",
       "    <tr style=\"text-align: right;\">\n",
       "      <th></th>\n",
       "      <th>0</th>\n",
       "      <th>1</th>\n",
       "      <th>2</th>\n",
       "      <th>3</th>\n",
       "    </tr>\n",
       "  </thead>\n",
       "  <tbody>\n",
       "    <tr>\n",
       "      <th>0</th>\n",
       "      <td>0.0000</td>\n",
       "      <td>0.000</td>\n",
       "      <td>0.0000</td>\n",
       "      <td>0.000</td>\n",
       "    </tr>\n",
       "    <tr>\n",
       "      <th>1</th>\n",
       "      <td>18.6440</td>\n",
       "      <td>61.726</td>\n",
       "      <td>1.0434</td>\n",
       "      <td>28.948</td>\n",
       "    </tr>\n",
       "    <tr>\n",
       "      <th>2</th>\n",
       "      <td>25.4400</td>\n",
       "      <td>82.240</td>\n",
       "      <td>1.0679</td>\n",
       "      <td>28.966</td>\n",
       "    </tr>\n",
       "    <tr>\n",
       "      <th>3</th>\n",
       "      <td>4.9482</td>\n",
       "      <td>32.322</td>\n",
       "      <td>1.0167</td>\n",
       "      <td>15.058</td>\n",
       "    </tr>\n",
       "    <tr>\n",
       "      <th>4</th>\n",
       "      <td>4.6428</td>\n",
       "      <td>24.778</td>\n",
       "      <td>1.0250</td>\n",
       "      <td>18.281</td>\n",
       "    </tr>\n",
       "  </tbody>\n",
       "</table>\n",
       "</div>"
      ],
      "text/plain": [
       "         0       1       2       3\n",
       "0   0.0000   0.000  0.0000   0.000\n",
       "1  18.6440  61.726  1.0434  28.948\n",
       "2  25.4400  82.240  1.0679  28.966\n",
       "3   4.9482  32.322  1.0167  15.058\n",
       "4   4.6428  24.778  1.0250  18.281"
      ]
     },
     "execution_count": 4,
     "metadata": {},
     "output_type": "execute_result"
    }
   ],
   "source": [
    "outputData.head()"
   ]
  },
  {
   "cell_type": "markdown",
   "metadata": {},
   "source": [
    "The input dataset has 23 columns and the columns are not named. TO start with, it is highly possible that each column is a significant feature. The output dataset has 4 columns which needs to be mapped with the input."
   ]
  },
  {
   "cell_type": "code",
   "execution_count": 5,
   "metadata": {},
   "outputs": [
    {
     "name": "stdout",
     "output_type": "stream",
     "text": [
      "<class 'pandas.core.frame.DataFrame'>\n",
      "RangeIndex: 21920 entries, 0 to 21919\n",
      "Data columns (total 23 columns):\n",
      " #   Column  Non-Null Count  Dtype  \n",
      "---  ------  --------------  -----  \n",
      " 0   0       21920 non-null  float64\n",
      " 1   1       21920 non-null  float64\n",
      " 2   2       21920 non-null  float64\n",
      " 3   3       21920 non-null  float64\n",
      " 4   4       21920 non-null  float64\n",
      " 5   5       21920 non-null  float64\n",
      " 6   6       21920 non-null  float64\n",
      " 7   7       21920 non-null  float64\n",
      " 8   8       21920 non-null  float64\n",
      " 9   9       21920 non-null  float64\n",
      " 10  10      21920 non-null  float64\n",
      " 11  11      21920 non-null  float64\n",
      " 12  12      21920 non-null  float64\n",
      " 13  13      21920 non-null  float64\n",
      " 14  14      21920 non-null  float64\n",
      " 15  15      21920 non-null  float64\n",
      " 16  16      21920 non-null  float64\n",
      " 17  17      21920 non-null  float64\n",
      " 18  18      21920 non-null  float64\n",
      " 19  19      21920 non-null  float64\n",
      " 20  20      21920 non-null  float64\n",
      " 21  21      21920 non-null  float64\n",
      " 22  22      21920 non-null  float64\n",
      "dtypes: float64(23)\n",
      "memory usage: 3.8 MB\n"
     ]
    }
   ],
   "source": [
    "inputData.info()"
   ]
  },
  {
   "cell_type": "code",
   "execution_count": 6,
   "metadata": {},
   "outputs": [
    {
     "name": "stdout",
     "output_type": "stream",
     "text": [
      "<class 'pandas.core.frame.DataFrame'>\n",
      "RangeIndex: 21920 entries, 0 to 21919\n",
      "Data columns (total 4 columns):\n",
      " #   Column  Non-Null Count  Dtype  \n",
      "---  ------  --------------  -----  \n",
      " 0   0       21920 non-null  float64\n",
      " 1   1       21920 non-null  float64\n",
      " 2   2       21920 non-null  float64\n",
      " 3   3       21920 non-null  float64\n",
      "dtypes: float64(4)\n",
      "memory usage: 685.1 KB\n"
     ]
    }
   ],
   "source": [
    "outputData.info()"
   ]
  },
  {
   "cell_type": "markdown",
   "metadata": {},
   "source": [
    "The dataset has 21920 entries. They have no missing values, and the datatypes are observed to be float."
   ]
  },
  {
   "cell_type": "markdown",
   "metadata": {},
   "source": [
    "Let's take a detailed statistical look into the datasets."
   ]
  },
  {
   "cell_type": "code",
   "execution_count": 7,
   "metadata": {},
   "outputs": [
    {
     "data": {
      "text/html": [
       "<div>\n",
       "<style scoped>\n",
       "    .dataframe tbody tr th:only-of-type {\n",
       "        vertical-align: middle;\n",
       "    }\n",
       "\n",
       "    .dataframe tbody tr th {\n",
       "        vertical-align: top;\n",
       "    }\n",
       "\n",
       "    .dataframe thead th {\n",
       "        text-align: right;\n",
       "    }\n",
       "</style>\n",
       "<table border=\"1\" class=\"dataframe\">\n",
       "  <thead>\n",
       "    <tr style=\"text-align: right;\">\n",
       "      <th></th>\n",
       "      <th>count</th>\n",
       "      <th>mean</th>\n",
       "      <th>std</th>\n",
       "      <th>min</th>\n",
       "      <th>25%</th>\n",
       "      <th>50%</th>\n",
       "      <th>75%</th>\n",
       "      <th>max</th>\n",
       "    </tr>\n",
       "  </thead>\n",
       "  <tbody>\n",
       "    <tr>\n",
       "      <th>0</th>\n",
       "      <td>21920.0</td>\n",
       "      <td>4.300634</td>\n",
       "      <td>0.230699</td>\n",
       "      <td>3.900000</td>\n",
       "      <td>4.099400</td>\n",
       "      <td>4.302550</td>\n",
       "      <td>4.499600</td>\n",
       "      <td>4.69990</td>\n",
       "    </tr>\n",
       "    <tr>\n",
       "      <th>1</th>\n",
       "      <td>21920.0</td>\n",
       "      <td>4.902029</td>\n",
       "      <td>0.287952</td>\n",
       "      <td>4.400000</td>\n",
       "      <td>4.655500</td>\n",
       "      <td>4.897200</td>\n",
       "      <td>5.154025</td>\n",
       "      <td>5.40000</td>\n",
       "    </tr>\n",
       "    <tr>\n",
       "      <th>2</th>\n",
       "      <td>21920.0</td>\n",
       "      <td>0.500298</td>\n",
       "      <td>0.287002</td>\n",
       "      <td>0.001120</td>\n",
       "      <td>0.253192</td>\n",
       "      <td>0.500745</td>\n",
       "      <td>0.748698</td>\n",
       "      <td>0.99999</td>\n",
       "    </tr>\n",
       "    <tr>\n",
       "      <th>3</th>\n",
       "      <td>21920.0</td>\n",
       "      <td>16.978422</td>\n",
       "      <td>1.726132</td>\n",
       "      <td>14.000000</td>\n",
       "      <td>15.479750</td>\n",
       "      <td>16.968000</td>\n",
       "      <td>18.457250</td>\n",
       "      <td>20.00000</td>\n",
       "    </tr>\n",
       "    <tr>\n",
       "      <th>4</th>\n",
       "      <td>21920.0</td>\n",
       "      <td>3.239738</td>\n",
       "      <td>1.008162</td>\n",
       "      <td>1.500300</td>\n",
       "      <td>2.363675</td>\n",
       "      <td>3.232900</td>\n",
       "      <td>4.107025</td>\n",
       "      <td>4.99990</td>\n",
       "    </tr>\n",
       "    <tr>\n",
       "      <th>5</th>\n",
       "      <td>21920.0</td>\n",
       "      <td>497.885794</td>\n",
       "      <td>287.615145</td>\n",
       "      <td>0.016225</td>\n",
       "      <td>250.097500</td>\n",
       "      <td>499.005000</td>\n",
       "      <td>744.627500</td>\n",
       "      <td>999.94000</td>\n",
       "    </tr>\n",
       "    <tr>\n",
       "      <th>6</th>\n",
       "      <td>21920.0</td>\n",
       "      <td>502.899704</td>\n",
       "      <td>288.264060</td>\n",
       "      <td>0.133540</td>\n",
       "      <td>254.590000</td>\n",
       "      <td>504.835000</td>\n",
       "      <td>752.802500</td>\n",
       "      <td>999.99000</td>\n",
       "    </tr>\n",
       "    <tr>\n",
       "      <th>7</th>\n",
       "      <td>21920.0</td>\n",
       "      <td>3.980054</td>\n",
       "      <td>1.731341</td>\n",
       "      <td>1.000900</td>\n",
       "      <td>2.474350</td>\n",
       "      <td>3.971600</td>\n",
       "      <td>5.494525</td>\n",
       "      <td>6.99990</td>\n",
       "    </tr>\n",
       "    <tr>\n",
       "      <th>8</th>\n",
       "      <td>21920.0</td>\n",
       "      <td>19.990592</td>\n",
       "      <td>1.156723</td>\n",
       "      <td>18.000000</td>\n",
       "      <td>18.984750</td>\n",
       "      <td>20.000000</td>\n",
       "      <td>20.981250</td>\n",
       "      <td>22.00000</td>\n",
       "    </tr>\n",
       "    <tr>\n",
       "      <th>9</th>\n",
       "      <td>21920.0</td>\n",
       "      <td>20.004395</td>\n",
       "      <td>1.155588</td>\n",
       "      <td>18.001000</td>\n",
       "      <td>19.013000</td>\n",
       "      <td>19.999000</td>\n",
       "      <td>21.004000</td>\n",
       "      <td>22.00000</td>\n",
       "    </tr>\n",
       "    <tr>\n",
       "      <th>10</th>\n",
       "      <td>21920.0</td>\n",
       "      <td>4.101326</td>\n",
       "      <td>0.177171</td>\n",
       "      <td>3.900000</td>\n",
       "      <td>3.954600</td>\n",
       "      <td>4.049600</td>\n",
       "      <td>4.209550</td>\n",
       "      <td>4.69780</td>\n",
       "    </tr>\n",
       "    <tr>\n",
       "      <th>11</th>\n",
       "      <td>21920.0</td>\n",
       "      <td>51.039120</td>\n",
       "      <td>28.255645</td>\n",
       "      <td>2.004400</td>\n",
       "      <td>26.641250</td>\n",
       "      <td>51.009000</td>\n",
       "      <td>75.355000</td>\n",
       "      <td>99.99900</td>\n",
       "    </tr>\n",
       "    <tr>\n",
       "      <th>12</th>\n",
       "      <td>21920.0</td>\n",
       "      <td>5.089714</td>\n",
       "      <td>2.865634</td>\n",
       "      <td>0.100110</td>\n",
       "      <td>2.625775</td>\n",
       "      <td>5.107400</td>\n",
       "      <td>7.585975</td>\n",
       "      <td>9.99960</td>\n",
       "    </tr>\n",
       "    <tr>\n",
       "      <th>13</th>\n",
       "      <td>21920.0</td>\n",
       "      <td>0.500397</td>\n",
       "      <td>0.288218</td>\n",
       "      <td>0.001023</td>\n",
       "      <td>0.249897</td>\n",
       "      <td>0.503975</td>\n",
       "      <td>0.749790</td>\n",
       "      <td>0.99997</td>\n",
       "    </tr>\n",
       "    <tr>\n",
       "      <th>14</th>\n",
       "      <td>21920.0</td>\n",
       "      <td>16.993862</td>\n",
       "      <td>1.728045</td>\n",
       "      <td>14.001000</td>\n",
       "      <td>15.486000</td>\n",
       "      <td>16.997000</td>\n",
       "      <td>18.472000</td>\n",
       "      <td>20.00000</td>\n",
       "    </tr>\n",
       "    <tr>\n",
       "      <th>15</th>\n",
       "      <td>21920.0</td>\n",
       "      <td>3.253144</td>\n",
       "      <td>1.008472</td>\n",
       "      <td>1.500500</td>\n",
       "      <td>2.386700</td>\n",
       "      <td>3.240900</td>\n",
       "      <td>4.128075</td>\n",
       "      <td>5.00000</td>\n",
       "    </tr>\n",
       "    <tr>\n",
       "      <th>16</th>\n",
       "      <td>21920.0</td>\n",
       "      <td>499.180598</td>\n",
       "      <td>291.032557</td>\n",
       "      <td>0.034718</td>\n",
       "      <td>246.177500</td>\n",
       "      <td>498.075000</td>\n",
       "      <td>752.440000</td>\n",
       "      <td>999.94000</td>\n",
       "    </tr>\n",
       "    <tr>\n",
       "      <th>17</th>\n",
       "      <td>21920.0</td>\n",
       "      <td>500.809539</td>\n",
       "      <td>287.761794</td>\n",
       "      <td>0.058344</td>\n",
       "      <td>252.875000</td>\n",
       "      <td>500.475000</td>\n",
       "      <td>748.805000</td>\n",
       "      <td>999.99000</td>\n",
       "    </tr>\n",
       "    <tr>\n",
       "      <th>18</th>\n",
       "      <td>21920.0</td>\n",
       "      <td>4.008383</td>\n",
       "      <td>1.725499</td>\n",
       "      <td>1.000100</td>\n",
       "      <td>2.520925</td>\n",
       "      <td>4.007250</td>\n",
       "      <td>5.500275</td>\n",
       "      <td>6.99980</td>\n",
       "    </tr>\n",
       "    <tr>\n",
       "      <th>19</th>\n",
       "      <td>21920.0</td>\n",
       "      <td>20.009385</td>\n",
       "      <td>1.154534</td>\n",
       "      <td>18.000000</td>\n",
       "      <td>19.012750</td>\n",
       "      <td>20.013500</td>\n",
       "      <td>21.008000</td>\n",
       "      <td>22.00000</td>\n",
       "    </tr>\n",
       "    <tr>\n",
       "      <th>20</th>\n",
       "      <td>21920.0</td>\n",
       "      <td>19.999323</td>\n",
       "      <td>1.149279</td>\n",
       "      <td>18.000000</td>\n",
       "      <td>19.009000</td>\n",
       "      <td>20.001000</td>\n",
       "      <td>20.992000</td>\n",
       "      <td>22.00000</td>\n",
       "    </tr>\n",
       "    <tr>\n",
       "      <th>21</th>\n",
       "      <td>21920.0</td>\n",
       "      <td>1.898497</td>\n",
       "      <td>1.031964</td>\n",
       "      <td>-0.526110</td>\n",
       "      <td>1.016850</td>\n",
       "      <td>1.902750</td>\n",
       "      <td>2.766350</td>\n",
       "      <td>3.89320</td>\n",
       "    </tr>\n",
       "    <tr>\n",
       "      <th>22</th>\n",
       "      <td>21920.0</td>\n",
       "      <td>50.915978</td>\n",
       "      <td>28.477780</td>\n",
       "      <td>2.003200</td>\n",
       "      <td>26.316750</td>\n",
       "      <td>50.581000</td>\n",
       "      <td>75.640500</td>\n",
       "      <td>99.99800</td>\n",
       "    </tr>\n",
       "  </tbody>\n",
       "</table>\n",
       "</div>"
      ],
      "text/plain": [
       "      count        mean         std        min         25%         50%  \\\n",
       "0   21920.0    4.300634    0.230699   3.900000    4.099400    4.302550   \n",
       "1   21920.0    4.902029    0.287952   4.400000    4.655500    4.897200   \n",
       "2   21920.0    0.500298    0.287002   0.001120    0.253192    0.500745   \n",
       "3   21920.0   16.978422    1.726132  14.000000   15.479750   16.968000   \n",
       "4   21920.0    3.239738    1.008162   1.500300    2.363675    3.232900   \n",
       "5   21920.0  497.885794  287.615145   0.016225  250.097500  499.005000   \n",
       "6   21920.0  502.899704  288.264060   0.133540  254.590000  504.835000   \n",
       "7   21920.0    3.980054    1.731341   1.000900    2.474350    3.971600   \n",
       "8   21920.0   19.990592    1.156723  18.000000   18.984750   20.000000   \n",
       "9   21920.0   20.004395    1.155588  18.001000   19.013000   19.999000   \n",
       "10  21920.0    4.101326    0.177171   3.900000    3.954600    4.049600   \n",
       "11  21920.0   51.039120   28.255645   2.004400   26.641250   51.009000   \n",
       "12  21920.0    5.089714    2.865634   0.100110    2.625775    5.107400   \n",
       "13  21920.0    0.500397    0.288218   0.001023    0.249897    0.503975   \n",
       "14  21920.0   16.993862    1.728045  14.001000   15.486000   16.997000   \n",
       "15  21920.0    3.253144    1.008472   1.500500    2.386700    3.240900   \n",
       "16  21920.0  499.180598  291.032557   0.034718  246.177500  498.075000   \n",
       "17  21920.0  500.809539  287.761794   0.058344  252.875000  500.475000   \n",
       "18  21920.0    4.008383    1.725499   1.000100    2.520925    4.007250   \n",
       "19  21920.0   20.009385    1.154534  18.000000   19.012750   20.013500   \n",
       "20  21920.0   19.999323    1.149279  18.000000   19.009000   20.001000   \n",
       "21  21920.0    1.898497    1.031964  -0.526110    1.016850    1.902750   \n",
       "22  21920.0   50.915978   28.477780   2.003200   26.316750   50.581000   \n",
       "\n",
       "           75%        max  \n",
       "0     4.499600    4.69990  \n",
       "1     5.154025    5.40000  \n",
       "2     0.748698    0.99999  \n",
       "3    18.457250   20.00000  \n",
       "4     4.107025    4.99990  \n",
       "5   744.627500  999.94000  \n",
       "6   752.802500  999.99000  \n",
       "7     5.494525    6.99990  \n",
       "8    20.981250   22.00000  \n",
       "9    21.004000   22.00000  \n",
       "10    4.209550    4.69780  \n",
       "11   75.355000   99.99900  \n",
       "12    7.585975    9.99960  \n",
       "13    0.749790    0.99997  \n",
       "14   18.472000   20.00000  \n",
       "15    4.128075    5.00000  \n",
       "16  752.440000  999.94000  \n",
       "17  748.805000  999.99000  \n",
       "18    5.500275    6.99980  \n",
       "19   21.008000   22.00000  \n",
       "20   20.992000   22.00000  \n",
       "21    2.766350    3.89320  \n",
       "22   75.640500   99.99800  "
      ]
     },
     "execution_count": 7,
     "metadata": {},
     "output_type": "execute_result"
    }
   ],
   "source": [
    "inputData.describe().T"
   ]
  },
  {
   "cell_type": "markdown",
   "metadata": {},
   "source": [
    "Input dataset: \n",
    "- The data columns 5, 6, 16, 17 possess a very high standard deviation , next to 11 and 22. All the other columns possess narrow standard deviation. Also, these data columns 5, 6, 16, 17, 11, 22 poss max value greater than 90, whereas their min values are lesser than 10.\n",
    "\n",
    "- The data columns 3, 8, 9, 14, 19, 20 possess min value between 10 and 20, all the other columns possess min value lesser than 10. Also the data columns 3, 8, 9, 14, 19, 20 possess max value greater than 20 whereas all the other columns possess max value lesser than 10."
   ]
  },
  {
   "cell_type": "code",
   "execution_count": 8,
   "metadata": {},
   "outputs": [
    {
     "data": {
      "text/html": [
       "<div>\n",
       "<style scoped>\n",
       "    .dataframe tbody tr th:only-of-type {\n",
       "        vertical-align: middle;\n",
       "    }\n",
       "\n",
       "    .dataframe tbody tr th {\n",
       "        vertical-align: top;\n",
       "    }\n",
       "\n",
       "    .dataframe thead th {\n",
       "        text-align: right;\n",
       "    }\n",
       "</style>\n",
       "<table border=\"1\" class=\"dataframe\">\n",
       "  <thead>\n",
       "    <tr style=\"text-align: right;\">\n",
       "      <th></th>\n",
       "      <th>count</th>\n",
       "      <th>mean</th>\n",
       "      <th>std</th>\n",
       "      <th>min</th>\n",
       "      <th>25%</th>\n",
       "      <th>50%</th>\n",
       "      <th>75%</th>\n",
       "      <th>max</th>\n",
       "    </tr>\n",
       "  </thead>\n",
       "  <tbody>\n",
       "    <tr>\n",
       "      <th>0</th>\n",
       "      <td>21920.0</td>\n",
       "      <td>9.838782</td>\n",
       "      <td>6.435896</td>\n",
       "      <td>0.0</td>\n",
       "      <td>4.77065</td>\n",
       "      <td>8.2093</td>\n",
       "      <td>14.24700</td>\n",
       "      <td>26.6940</td>\n",
       "    </tr>\n",
       "    <tr>\n",
       "      <th>1</th>\n",
       "      <td>21920.0</td>\n",
       "      <td>40.900478</td>\n",
       "      <td>19.025825</td>\n",
       "      <td>0.0</td>\n",
       "      <td>28.03300</td>\n",
       "      <td>37.2700</td>\n",
       "      <td>52.02025</td>\n",
       "      <td>89.0640</td>\n",
       "    </tr>\n",
       "    <tr>\n",
       "      <th>2</th>\n",
       "      <td>21920.0</td>\n",
       "      <td>1.025371</td>\n",
       "      <td>0.208927</td>\n",
       "      <td>0.0</td>\n",
       "      <td>1.02190</td>\n",
       "      <td>1.0355</td>\n",
       "      <td>1.05380</td>\n",
       "      <td>8.9516</td>\n",
       "    </tr>\n",
       "    <tr>\n",
       "      <th>3</th>\n",
       "      <td>21920.0</td>\n",
       "      <td>21.394234</td>\n",
       "      <td>7.193564</td>\n",
       "      <td>0.0</td>\n",
       "      <td>15.88700</td>\n",
       "      <td>23.0000</td>\n",
       "      <td>28.16200</td>\n",
       "      <td>29.4860</td>\n",
       "    </tr>\n",
       "  </tbody>\n",
       "</table>\n",
       "</div>"
      ],
      "text/plain": [
       "     count       mean        std  min       25%      50%       75%      max\n",
       "0  21920.0   9.838782   6.435896  0.0   4.77065   8.2093  14.24700  26.6940\n",
       "1  21920.0  40.900478  19.025825  0.0  28.03300  37.2700  52.02025  89.0640\n",
       "2  21920.0   1.025371   0.208927  0.0   1.02190   1.0355   1.05380   8.9516\n",
       "3  21920.0  21.394234   7.193564  0.0  15.88700  23.0000  28.16200  29.4860"
      ]
     },
     "execution_count": 8,
     "metadata": {},
     "output_type": "execute_result"
    }
   ],
   "source": [
    "outputData.describe().T"
   ]
  },
  {
   "cell_type": "markdown",
   "metadata": {},
   "source": [
    "Output dataset: \n",
    "- The data columns 2, 0, 3, 1 are in the order of increasing standard deviation\n",
    "- All the data columns possess min value 0\n",
    "- The max values in each column are in the same increasing order of standard deviation"
   ]
  },
  {
   "cell_type": "markdown",
   "metadata": {},
   "source": [
    "### Visulaizing the dataset"
   ]
  },
  {
   "cell_type": "code",
   "execution_count": 9,
   "metadata": {},
   "outputs": [
    {
     "data": {
      "text/plain": [
       "<matplotlib.axes._subplots.AxesSubplot at 0x1dfd4930e50>"
      ]
     },
     "execution_count": 9,
     "metadata": {},
     "output_type": "execute_result"
    },
    {
     "data": {
      "image/png": "[encoded data removed]",
      "text/plain": [
       "<Figure size 432x288 with 1 Axes>"
      ]
     },
     "metadata": {
      "needs_background": "light"
     },
     "output_type": "display_data"
    }
   ],
   "source": [
    "inputData.plot.hist(bins=12, alpha=0.5)"
   ]
  },
  {
   "cell_type": "code",
   "execution_count": 10,
   "metadata": {},
   "outputs": [
    {
     "data": {
      "text/plain": [
       "<matplotlib.axes._subplots.AxesSubplot at 0x1dfd4153ac0>"
      ]
     },
     "execution_count": 10,
     "metadata": {},
     "output_type": "execute_result"
    },
    {
     "data": {
      "image/png": "[encoded data removed]",
      "text/plain": [
       "<Figure size 432x288 with 1 Axes>"
      ]
     },
     "metadata": {
      "needs_background": "light"
     },
     "output_type": "display_data"
    }
   ],
   "source": [
    "outputData.plot.hist(bins=12, alpha=0.5)"
   ]
  },
  {
   "cell_type": "markdown",
   "metadata": {},
   "source": [
    "The above plots show the histogram of the input and output dataset respectively. Let's check the input plot for the same min and max range as output."
   ]
  },
  {
   "cell_type": "code",
   "execution_count": 11,
   "metadata": {},
   "outputs": [
    {
     "data": {
      "text/plain": [
       "<matplotlib.axes._subplots.AxesSubplot at 0x1dfd3564580>"
      ]
     },
     "execution_count": 11,
     "metadata": {},
     "output_type": "execute_result"
    },
    {
     "data": {
      "image/png": "[encoded data removed]",
      "text/plain": [
       "<Figure size 432x288 with 1 Axes>"
      ]
     },
     "metadata": {
      "needs_background": "light"
     },
     "output_type": "display_data"
    }
   ],
   "source": [
    "inputData.plot.hist(bins=12, alpha=0.5, range=(0, 100))"
   ]
  },
  {
   "cell_type": "markdown",
   "metadata": {},
   "source": [
    "Rather than modifying the range in the plot, let's try to pick only the columns which match to output data range. This will be discussed in Feature Engineering section further."
   ]
  },
  {
   "cell_type": "markdown",
   "metadata": {},
   "source": []
  },
  {
   "cell_type": "code",
   "execution_count": null,
   "metadata": {},
   "outputs": [],
   "source": [
    "inputDataHighSD = inputData.loc[:, [5, 6, 16, 17, 11, 22]]\n",
    "inputDataMidRange = inputData.loc[:, [3, 8, 9, 14, 19, 20]]\n",
    "inputDataLowRange = inputData.loc[:, [0, 1, 2, 4, 7, 10, 12, 13, 15, 18, 21]]"
   ]
  },
  {
   "cell_type": "markdown",
   "metadata": {},
   "source": [
    "Let's visualize individual columns of the output datset"
   ]
  },
  {
   "cell_type": "code",
   "execution_count": 12,
   "metadata": {},
   "outputs": [
    {
     "data": {
      "text/plain": [
       "array([[<matplotlib.axes._subplots.AxesSubplot object at 0x000001DFD38FC160>,\n",
       "        <matplotlib.axes._subplots.AxesSubplot object at 0x000001DFD4A44640>],\n",
       "       [<matplotlib.axes._subplots.AxesSubplot object at 0x000001DFD363F610>,\n",
       "        <matplotlib.axes._subplots.AxesSubplot object at 0x000001DFD4187F10>]],\n",
       "      dtype=object)"
      ]
     },
     "execution_count": 12,
     "metadata": {},
     "output_type": "execute_result"
    },
    {
     "data": {
      "image/png": "[encoded data removed]",
      "text/plain": [
       "<Figure size 432x288 with 4 Axes>"
      ]
     },
     "metadata": {
      "needs_background": "light"
     },
     "output_type": "display_data"
    }
   ],
   "source": [
    "outputData.hist()"
   ]
  },
  {
   "cell_type": "markdown",
   "metadata": {},
   "source": [
    "Interestingly, it is observed that the column 1 possess a gaussian distribution, columns 0 and 3 posses an exponential distribution and column 2 a log normal distribution. Also, each column seem to emphasize particular range of values. "
   ]
  },
  {
   "cell_type": "markdown",
   "metadata": {},
   "source": [
    "## Feature Engineering"
   ]
  },
  {
   "cell_type": "markdown",
   "metadata": {},
   "source": [
    "Let's revist the input dataset and check for the histogram plot for columns whose max values are lesser than 100."
   ]
  },
  {
   "cell_type": "code",
   "execution_count": 13,
   "metadata": {},
   "outputs": [
    {
     "data": {
      "text/plain": [
       "<matplotlib.axes._subplots.AxesSubplot at 0x1dfd4cd80d0>"
      ]
     },
     "execution_count": 13,
     "metadata": {},
     "output_type": "execute_result"
    },
    {
     "data": {
      "image/png": "[encoded data removed]",
      "text/plain": [
       "<Figure size 432x288 with 1 Axes>"
      ]
     },
     "metadata": {
      "needs_background": "light"
     },
     "output_type": "display_data"
    },
    {
     "data": {
      "image/png": "[encoded data removed]",
      "text/plain": [
       "<Figure size 432x288 with 1 Axes>"
      ]
     },
     "metadata": {
      "needs_background": "light"
     },
     "output_type": "display_data"
    }
   ],
   "source": [
    "inputDataMax100 = inputData[inputData < 100].dropna(axis=1)\n",
    "inputDataMax100.plot.hist()\n",
    "outputData.plot.hist(bins=12, alpha=0.5)"
   ]
  },
  {
   "cell_type": "markdown",
   "metadata": {},
   "source": [
    "Interestingly, the input data columns 5, 6, 16, 17 which possess a very high standard deviation are not selected for the specified condition. There is a visual resemblance in the histogram plots of above input and output too, i.e, the frequency of the input and output data peaks in the similar ranges (data values between 0 and 30 approximately) and the frequency decays in the higher values of the data > 30. Let's check the distribution graph."
   ]
  },
  {
   "cell_type": "code",
   "execution_count": 14,
   "metadata": {},
   "outputs": [
    {
     "data": {
      "text/plain": [
       "(array([0.05815195, 0.01931177, 0.01452228, 0.00107317, 0.00107484,\n",
       "        0.00105263, 0.00106242, 0.00106338, 0.00107818, 0.00108702]),\n",
       " array([-0.52611 ,  9.526401, 19.578912, 29.631423, 39.683934, 49.736445,\n",
       "        59.788956, 69.841467, 79.893978, 89.946489, 99.999   ]),\n",
       " <a list of 10 Patch objects>)"
      ]
     },
     "execution_count": 14,
     "metadata": {},
     "output_type": "execute_result"
    },
    {
     "data": {
      "image/png": "[encoded data removed]",
      "text/plain": [
       "<Figure size 432x288 with 1 Axes>"
      ]
     },
     "metadata": {
      "needs_background": "light"
     },
     "output_type": "display_data"
    }
   ],
   "source": [
    "data = inputDataMax100.values.flatten()\n",
    "mean, var  = scipy.stats.distributions.norm.fit(data)\n",
    "x = np.linspace(0,5,100)\n",
    "plt.hist(data, density=True)"
   ]
  },
  {
   "cell_type": "code",
   "execution_count": 15,
   "metadata": {},
   "outputs": [
    {
     "data": {
      "text/plain": [
       "(array([0.04522398, 0.01820433, 0.01716836, 0.01610166, 0.00611464,\n",
       "        0.00283898, 0.00217438, 0.00179149, 0.00139196, 0.00126903]),\n",
       " array([ 0.    ,  8.9064, 17.8128, 26.7192, 35.6256, 44.532 , 53.4384,\n",
       "        62.3448, 71.2512, 80.1576, 89.064 ]),\n",
       " <a list of 10 Patch objects>)"
      ]
     },
     "execution_count": 15,
     "metadata": {},
     "output_type": "execute_result"
    },
    {
     "data": {
      "image/png": "[encoded data removed]",
      "text/plain": [
       "<Figure size 432x288 with 1 Axes>"
      ]
     },
     "metadata": {
      "needs_background": "light"
     },
     "output_type": "display_data"
    }
   ],
   "source": [
    "data = outputData.values.flatten()\n",
    "mean, var  = scipy.stats.distributions.norm.fit(data)\n",
    "x = np.linspace(0,5,100)\n",
    "plt.hist(data, density=True)"
   ]
  },
  {
   "cell_type": "markdown",
   "metadata": {},
   "source": [
    "The distribution graph also exhibits similarity."
   ]
  },
  {
   "cell_type": "markdown",
   "metadata": {},
   "source": [
    "Let's see whether we can observe individual distributions on the input dataset similar to the output. \n",
    " - The columns 0 and 3 of output dataset possess exponential distribution: For this, let's take the columns whose values are lesser than 30 (as in output data range for those columns)"
   ]
  },
  {
   "cell_type": "code",
   "execution_count": 16,
   "metadata": {},
   "outputs": [
    {
     "data": {
      "text/plain": [
       "<matplotlib.axes._subplots.AxesSubplot at 0x1dfd4b9cca0>"
      ]
     },
     "execution_count": 16,
     "metadata": {},
     "output_type": "execute_result"
    },
    {
     "data": {
      "image/png": "[encoded data removed]",
      "text/plain": [
       "<Figure size 432x288 with 1 Axes>"
      ]
     },
     "metadata": {
      "needs_background": "light"
     },
     "output_type": "display_data"
    }
   ],
   "source": [
    "inputDataLessThan30 = inputData[inputData < 30].dropna(axis=1)\n",
    "inputDataLessThan30.plot.hist()"
   ]
  },
  {
   "cell_type": "markdown",
   "metadata": {},
   "source": [
    "Because of this condition, the input columns 5, 6, 11, 16, 17, 22 are left out (Again these columns were observed to have high standard deviation). "
   ]
  },
  {
   "cell_type": "code",
   "execution_count": 17,
   "metadata": {},
   "outputs": [
    {
     "data": {
      "text/plain": [
       "(array([0.07776863, 0.08493674, 0.10785514, 0.01252304, 0.00416482,\n",
       "        0.        , 0.01088737, 0.01981146, 0.06486438, 0.06111771]),\n",
       " array([-0.52611 ,  1.726501,  3.979112,  6.231723,  8.484334, 10.736945,\n",
       "        12.989556, 15.242167, 17.494778, 19.747389, 22.      ]),\n",
       " <a list of 10 Patch objects>)"
      ]
     },
     "execution_count": 17,
     "metadata": {},
     "output_type": "execute_result"
    },
    {
     "data": {
      "image/png": "[encoded data removed]",
      "text/plain": [
       "<Figure size 432x288 with 1 Axes>"
      ]
     },
     "metadata": {
      "needs_background": "light"
     },
     "output_type": "display_data"
    }
   ],
   "source": [
    "data = inputDataLessThan30.values.flatten()\n",
    "mean, var  = scipy.stats.distributions.norm.fit(data)\n",
    "x = np.linspace(0,5,100)\n",
    "plt.hist(data, density=True)"
   ]
  },
  {
   "cell_type": "code",
   "execution_count": 18,
   "metadata": {},
   "outputs": [
    {
     "data": {
      "text/plain": [
       "<matplotlib.axes._subplots.AxesSubplot at 0x1dfd33c24c0>"
      ]
     },
     "execution_count": 18,
     "metadata": {},
     "output_type": "execute_result"
    },
    {
     "data": {
      "image/png": "[encoded data removed]",
      "text/plain": [
       "<Figure size 432x288 with 1 Axes>"
      ]
     },
     "metadata": {
      "needs_background": "light"
     },
     "output_type": "display_data"
    }
   ],
   "source": [
    "outputData[3].hist()"
   ]
  },
  {
   "cell_type": "code",
   "execution_count": 19,
   "metadata": {},
   "outputs": [
    {
     "data": {
      "text/plain": [
       "<matplotlib.axes._subplots.AxesSubplot at 0x1dfd4be5ee0>"
      ]
     },
     "execution_count": 19,
     "metadata": {},
     "output_type": "execute_result"
    },
    {
     "data": {
      "image/png": "[encoded data removed]",
      "text/plain": [
       "<Figure size 432x288 with 1 Axes>"
      ]
     },
     "metadata": {
      "needs_background": "light"
     },
     "output_type": "display_data"
    }
   ],
   "source": [
    "outputData[0].hist()"
   ]
  },
  {
   "cell_type": "markdown",
   "metadata": {},
   "source": [
    "This distribution plot possess resemblance in terms of the exponentially increasing trend from the x range after 10, and exponentially decreasing trend in x range between 5 and 10. The output column 3 has  exponentialy increasing trend and output column 0 has **smoothened** exponentially decreasing trend as shown below respectively."
   ]
  },
  {
   "cell_type": "code",
   "execution_count": 20,
   "metadata": {},
   "outputs": [
    {
     "data": {
      "text/plain": [
       "<matplotlib.axes._subplots.AxesSubplot at 0x1dfd4a139a0>"
      ]
     },
     "execution_count": 20,
     "metadata": {},
     "output_type": "execute_result"
    },
    {
     "data": {
      "image/png": "[encoded data removed]",
      "text/plain": [
       "<Figure size 432x288 with 1 Axes>"
      ]
     },
     "metadata": {
      "needs_background": "light"
     },
     "output_type": "display_data"
    }
   ],
   "source": [
    "inputDataMax100 = inputData[inputData < 100].dropna(axis=1)\n",
    "inputDataMax100.plot.hist()"
   ]
  },
  {
   "cell_type": "markdown",
   "metadata": {},
   "source": [
    "Please observe the frequency in the lower x range from 0 to 2. This is quite similar to the output column 2 as below."
   ]
  },
  {
   "cell_type": "code",
   "execution_count": 21,
   "metadata": {},
   "outputs": [
    {
     "data": {
      "text/plain": [
       "<matplotlib.axes._subplots.AxesSubplot at 0x1dfd3744c40>"
      ]
     },
     "execution_count": 21,
     "metadata": {},
     "output_type": "execute_result"
    },
    {
     "data": {
      "image/png": "[encoded data removed]",
      "text/plain": [
       "<Figure size 432x288 with 1 Axes>"
      ]
     },
     "metadata": {
      "needs_background": "light"
     },
     "output_type": "display_data"
    }
   ],
   "source": [
    "outputData[2].hist()"
   ]
  },
  {
   "cell_type": "markdown",
   "metadata": {},
   "source": [
    "All these observations gives an insight that the output dataset could be the processed/ transformed data of the input dataset. Also, we saw that the output data showed similar distributions to exponential, gaussian and log norm with emphasis in certain x range. Let's try to map the input dataset to the output through modelling."
   ]
  },
  {
   "cell_type": "markdown",
   "metadata": {},
   "source": [
    "## Model tuning for output distribution of the input data"
   ]
  },
  {
   "cell_type": "markdown",
   "metadata": {},
   "source": [
    "It is observed that the input and output dataset shows a similar distribution of data. It is also observed that input dataset has been transformed to the output based on emphasis in different ranges of data. Let us try to map the input and output."
   ]
  },
  {
   "cell_type": "markdown",
   "metadata": {},
   "source": [
    "Based on the observations till now, I decided to go with Dimensionality Reduction Algorithms at first. I used PCA with 4 components."
   ]
  },
  {
   "cell_type": "code",
   "execution_count": 42,
   "metadata": {},
   "outputs": [
    {
     "data": {
      "text/plain": [
       "array([[<matplotlib.axes._subplots.AxesSubplot object at 0x000001DFD4A5D220>,\n",
       "        <matplotlib.axes._subplots.AxesSubplot object at 0x000001DFD3D92940>],\n",
       "       [<matplotlib.axes._subplots.AxesSubplot object at 0x000001DFD4F3A8E0>,\n",
       "        <matplotlib.axes._subplots.AxesSubplot object at 0x000001DFD41DFDF0>]],\n",
       "      dtype=object)"
      ]
     },
     "execution_count": 42,
     "metadata": {},
     "output_type": "execute_result"
    },
    {
     "data": {
      "image/png": "[encoded data removed]",
      "text/plain": [
       "<Figure size 432x288 with 4 Axes>"
      ]
     },
     "metadata": {
      "needs_background": "light"
     },
     "output_type": "display_data"
    }
   ],
   "source": [
    "pca = PCA(n_components=4)\n",
    "principalComponents = pca.fit_transform(inputData)\n",
    "principalDf = pd.DataFrame(data = principalComponents\n",
    "                           , columns = ['principal component 1', 'principal component 2', \n",
    "                                        'principal component 3', 'principal component 4'])\n",
    "principalDf.hist()"
   ]
  },
  {
   "cell_type": "code",
   "execution_count": 43,
   "metadata": {},
   "outputs": [
    {
     "name": "stdout",
     "output_type": "stream",
     "text": [
      "[0.25322291 0.24914167 0.24711762 0.24562746]\n"
     ]
    },
    {
     "data": {
      "text/plain": [
       "array([0.25322291, 0.50236458, 0.7494822 , 0.99510966])"
      ]
     },
     "execution_count": 43,
     "metadata": {},
     "output_type": "execute_result"
    }
   ],
   "source": [
    "print(pca.explained_variance_ratio_)\n",
    "pca.explained_variance_ratio_.cumsum()"
   ]
  },
  {
   "cell_type": "markdown",
   "metadata": {},
   "source": [
    "This shows that these 4 components together contain 99.5% of information from the input dataset of 23 columns. But the histogram plots do not seem to match with output."
   ]
  },
  {
   "cell_type": "markdown",
   "metadata": {},
   "source": [
    "I proceeded to make a conventional polynomial regression model - inorder to see the accuracy of the polynomial fit over the output data. Regression model is chosen because the output dataset is continuous."
   ]
  },
  {
   "cell_type": "code",
   "execution_count": 44,
   "metadata": {},
   "outputs": [
    {
     "data": {
      "text/plain": [
       "0.9306035661076624"
      ]
     },
     "execution_count": 44,
     "metadata": {},
     "output_type": "execute_result"
    }
   ],
   "source": [
    "poly = PolynomialFeatures(degree=3)\n",
    "poly_variables = poly.fit_transform(inputData)\n",
    "#poly_variables = poly.fit_transform(inputData.loc[:, inputData < 30] )\n",
    "test = outputData[0]\n",
    "regression = linear_model.LinearRegression()\n",
    "\n",
    "model = regression.fit(poly_variables, test)\n",
    "score = model.score(poly_variables, test)\n",
    "score"
   ]
  },
  {
   "cell_type": "markdown",
   "metadata": {},
   "source": [
    "The score for mapping the first ouptut column to input is 0.93"
   ]
  },
  {
   "cell_type": "code",
   "execution_count": 46,
   "metadata": {},
   "outputs": [
    {
     "data": {
      "text/plain": [
       "0.8941761347039975"
      ]
     },
     "execution_count": 46,
     "metadata": {},
     "output_type": "execute_result"
    }
   ],
   "source": [
    "poly = PolynomialFeatures(degree=3)\n",
    "poly_variables = poly.fit_transform(inputData )\n",
    "test = outputData[1]\n",
    "regression = linear_model.LinearRegression()\n",
    "\n",
    "model = regression.fit(poly_variables, test)\n",
    "score = model.score(poly_variables, test)\n",
    "score"
   ]
  },
  {
   "cell_type": "markdown",
   "metadata": {},
   "source": [
    "The score for mapping the second ouptut column to input is 0.89"
   ]
  },
  {
   "cell_type": "code",
   "execution_count": 47,
   "metadata": {},
   "outputs": [
    {
     "data": {
      "text/plain": [
       "0.21813689056032592"
      ]
     },
     "execution_count": 47,
     "metadata": {},
     "output_type": "execute_result"
    }
   ],
   "source": [
    "poly = PolynomialFeatures(degree=3)\n",
    "#poly_variables = poly.fit_transform(inputData.loc[:, inputData.std() < 30] )\n",
    "poly_variables = poly.fit_transform(inputData)\n",
    "test = outputData[2]\n",
    "regression = linear_model.LinearRegression()\n",
    "\n",
    "model = regression.fit(poly_variables, test)\n",
    "score = model.score(poly_variables, test)\n",
    "score"
   ]
  },
  {
   "cell_type": "markdown",
   "metadata": {},
   "source": [
    "The score for mapping the third ouptut column to input is 0.21"
   ]
  },
  {
   "cell_type": "code",
   "execution_count": 48,
   "metadata": {},
   "outputs": [
    {
     "data": {
      "text/plain": [
       "0.881816248632874"
      ]
     },
     "execution_count": 48,
     "metadata": {},
     "output_type": "execute_result"
    }
   ],
   "source": [
    "poly = PolynomialFeatures(degree=3)\n",
    "poly_variables = poly.fit_transform(inputData )\n",
    "test = outputData[3]\n",
    "regression = linear_model.LinearRegression()\n",
    "\n",
    "model = regression.fit(poly_variables, test)\n",
    "score = model.score(poly_variables, test)\n",
    "score"
   ]
  },
  {
   "cell_type": "markdown",
   "metadata": {},
   "source": [
    "The score for mapping the fourth ouptut column to input is 0.88"
   ]
  },
  {
   "cell_type": "markdown",
   "metadata": {},
   "source": [
    "## Discussion based on the results"
   ]
  },
  {
   "cell_type": "markdown",
   "metadata": {},
   "source": [
    "All the above observations give an insight that the output dataset could be the processed/ transformed data of the input dataset. Also, we could visualize that the input and output dataset shows similar distributions such that there is a visual resemblance in the histogram plots of above input and output, i.e, the frequency of the input and output data peaks in the similar ranges (data values between 0 and 30 approximately) and the frequency decays in the higher values of the data > 30. We also observed that each column of output data showed similar distributions to exponential, gaussian and log norm with emphasis in different value range. \n",
    "Dimensionality reduction technique(PCA) is tried to see whether the principal components could be the output. Polynomial regression model is also tried to map the input and output and the scores were as in the modelling section."
   ]
  },
  {
   "cell_type": "markdown",
   "metadata": {},
   "source": [
    "## Steps to improve"
   ]
  },
  {
   "cell_type": "markdown",
   "metadata": {},
   "source": [
    "The techniques in feature engineering and modelling can still be explored based on the understanding of the subject matter of the dataset, i.e, whether these dataset belong to sensor readings, filter coefficients, etc, more precisely if it is labelled."
   ]
  },
  {
   "cell_type": "markdown",
   "metadata": {},
   "source": []
  }
 ],
 "metadata": {
  "kernelspec": {
   "display_name": "Python 3",
   "language": "python",
   "name": "python3"
  },
  "language_info": {
   "codemirror_mode": {
    "name": "ipython",
    "version": 3
   },
   "file_extension": ".py",
   "mimetype": "text/x-python",
   "name": "python",
   "nbconvert_exporter": "python",
   "pygments_lexer": "ipython3",
   "version": "3.8.3"
  }
 },
 "nbformat": 4,
 "nbformat_minor": 4
}
