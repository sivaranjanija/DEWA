{
 "cells": [
  {
   "cell_type": "code",
   "execution_count": 1,
   "metadata": {},
   "outputs": [],
   "source": [
    "import pandas as pd\n",
    "import numpy as np\n",
    "import matplotlib.pyplot as plt"
   ]
  },
  {
   "cell_type": "code",
   "execution_count": 2,
   "metadata": {},
   "outputs": [],
   "source": [
    "inputData = pd.read_csv(\"MeasuredTemperature.csv\", header=None)"
   ]
  },
  {
   "cell_type": "code",
   "execution_count": 3,
   "metadata": {},
   "outputs": [],
   "source": [
    "inputDataArray = np.array(inputData.values.ravel())"
   ]
  },
  {
   "cell_type": "code",
   "execution_count": 4,
   "metadata": {},
   "outputs": [
    {
     "data": {
      "text/plain": [
       "array([0.09158, 0.20181, 0.365  , 0.54184, 0.66017, 0.66017, 0.54184,\n",
       "       0.365  , 0.20181, 0.09158, 0.20181, 0.44472, 0.80435, 1.19404,\n",
       "       1.4548 , 1.4548 , 1.19404, 0.80435, 0.44472, 0.20181, 0.365  ,\n",
       "       0.80435, 1.4548 , 2.15962, 2.63126, 2.63126, 2.15962, 1.4548 ,\n",
       "       0.80435, 0.365  , 0.54184, 1.19404, 2.15962, 3.2059 , 3.90604,\n",
       "       3.90604, 3.2059 , 2.15962, 1.19404, 0.54184, 0.66017, 1.4548 ,\n",
       "       2.63126, 3.90604, 4.75908, 4.75908, 3.90604, 2.63126, 1.4548 ,\n",
       "       0.66017, 0.66017, 1.4548 , 2.63126, 3.90604, 4.75908, 4.75908,\n",
       "       3.90604, 2.63126, 1.4548 , 0.66017, 0.54184, 1.19404, 2.15962,\n",
       "       3.2059 , 3.90604, 3.90604, 3.2059 , 2.15962, 1.19404, 0.54184,\n",
       "       0.365  , 0.80435, 1.4548 , 2.15962, 2.63126, 2.63126, 2.15962,\n",
       "       1.4548 , 0.80435, 0.365  , 0.20181, 0.44472, 0.80435, 1.19404,\n",
       "       1.4548 , 1.4548 , 1.19404, 0.80435, 0.44472, 0.20181, 0.09158,\n",
       "       0.20181, 0.365  , 0.54184, 0.66017, 0.66017, 0.54184, 0.365  ,\n",
       "       0.20181, 0.09158])"
      ]
     },
     "execution_count": 4,
     "metadata": {},
     "output_type": "execute_result"
    }
   ],
   "source": [
    "inputDataArray"
   ]
  },
  {
   "cell_type": "markdown",
   "metadata": {},
   "source": [
    "Resize to 10*10 to plot"
   ]
  },
  {
   "cell_type": "code",
   "execution_count": 5,
   "metadata": {},
   "outputs": [],
   "source": [
    "inputDataMatrix = np.reshape(inputDataArray, (10, 10))"
   ]
  },
  {
   "cell_type": "code",
   "execution_count": 6,
   "metadata": {},
   "outputs": [],
   "source": [
    "a = np.expand_dims(inputDataArray, axis=0)"
   ]
  },
  {
   "cell_type": "code",
   "execution_count": 7,
   "metadata": {},
   "outputs": [
    {
     "data": {
      "image/png": "[encoded data removed]",
      "text/plain": [
       "<Figure size 432x288 with 1 Axes>"
      ]
     },
     "metadata": {
      "needs_background": "light"
     },
     "output_type": "display_data"
    }
   ],
   "source": [
    "fig, ax = plt.subplots(constrained_layout=True)\n",
    "plt.title(\"Recovered Heat Map\")\n",
    "im = ax.imshow(inputDataMatrix)"
   ]
  },
  {
   "cell_type": "code",
   "execution_count": null,
   "metadata": {},
   "outputs": [],
   "source": []
  },
  {
   "cell_type": "code",
   "execution_count": null,
   "metadata": {},
   "outputs": [],
   "source": []
  },
  {
   "cell_type": "code",
   "execution_count": null,
   "metadata": {},
   "outputs": [],
   "source": []
  },
  {
   "cell_type": "code",
   "execution_count": null,
   "metadata": {},
   "outputs": [],
   "source": []
  },
  {
   "cell_type": "code",
   "execution_count": null,
   "metadata": {},
   "outputs": [],
   "source": []
  },
  {
   "cell_type": "code",
   "execution_count": null,
   "metadata": {},
   "outputs": [],
   "source": []
  },
  {
   "cell_type": "code",
   "execution_count": null,
   "metadata": {},
   "outputs": [],
   "source": []
  }
 ],
 "metadata": {
  "kernelspec": {
   "display_name": "Python 3",
   "language": "python",
   "name": "python3"
  },
  "language_info": {
   "codemirror_mode": {
    "name": "ipython",
    "version": 3
   },
   "file_extension": ".py",
   "mimetype": "text/x-python",
   "name": "python",
   "nbconvert_exporter": "python",
   "pygments_lexer": "ipython3",
   "version": "3.8.3"
  }
 },
 "nbformat": 4,
 "nbformat_minor": 4
}
