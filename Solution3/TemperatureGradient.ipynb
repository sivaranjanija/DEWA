{
 "cells": [
  {
   "cell_type": "markdown",
   "metadata": {},
   "source": [
    "# Problem3\n",
    "You need to create a random temperature gradient as shown in the figure. The grid lines represent Latitude and Longitude values. Each cell of 1 meter squared represents only 1 temperature reading. "
   ]
  },
  {
   "cell_type": "markdown",
   "metadata": {},
   "source": [
    "# Solution:"
   ]
  },
  {
   "cell_type": "markdown",
   "metadata": {},
   "source": [
    "## Import libraries"
   ]
  },
  {
   "cell_type": "code",
   "execution_count": 1,
   "metadata": {},
   "outputs": [],
   "source": [
    "import numpy as np\n",
    "import matplotlib.pyplot as plt"
   ]
  },
  {
   "cell_type": "markdown",
   "metadata": {},
   "source": [
    "## Creating 10*10 grid with gaussian values"
   ]
  },
  {
   "cell_type": "code",
   "execution_count": 2,
   "metadata": {},
   "outputs": [],
   "source": [
    "x = np.linspace(-1, 1, 10)\n",
    "y = np.linspace(-1, 1, 10)\n",
    "xx, yy = np.meshgrid(x, y)\n",
    "std_x = 0.5\n",
    "std_y = 0.5\n",
    "A = 5\n",
    "Gaussian = A * np.exp(-(xx**2/(2*std_x**2) + yy**2/(2*std_y**2)))"
   ]
  },
  {
   "cell_type": "code",
   "execution_count": 3,
   "metadata": {},
   "outputs": [
    {
     "data": {
      "text/plain": [
       "array([[0.09157819, 0.20180798, 0.36500434, 0.54184012, 0.66017294,\n",
       "        0.66017294, 0.54184012, 0.36500434, 0.20180798, 0.09157819],\n",
       "       [0.20180798, 0.44471788, 0.80434855, 1.19403598, 1.45480229,\n",
       "        1.45480229, 1.19403598, 0.80434855, 0.44471788, 0.20180798],\n",
       "       [0.36500434, 0.80434855, 1.45480229, 2.15961883, 2.63125943,\n",
       "        2.63125943, 2.15961883, 1.45480229, 0.80434855, 0.36500434],\n",
       "       [0.54184012, 1.19403598, 2.15961883, 3.20590194, 3.90604101,\n",
       "        3.90604101, 3.20590194, 2.15961883, 1.19403598, 0.54184012],\n",
       "       [0.66017294, 1.45480229, 2.63125943, 3.90604101, 4.75908392,\n",
       "        4.75908392, 3.90604101, 2.63125943, 1.45480229, 0.66017294],\n",
       "       [0.66017294, 1.45480229, 2.63125943, 3.90604101, 4.75908392,\n",
       "        4.75908392, 3.90604101, 2.63125943, 1.45480229, 0.66017294],\n",
       "       [0.54184012, 1.19403598, 2.15961883, 3.20590194, 3.90604101,\n",
       "        3.90604101, 3.20590194, 2.15961883, 1.19403598, 0.54184012],\n",
       "       [0.36500434, 0.80434855, 1.45480229, 2.15961883, 2.63125943,\n",
       "        2.63125943, 2.15961883, 1.45480229, 0.80434855, 0.36500434],\n",
       "       [0.20180798, 0.44471788, 0.80434855, 1.19403598, 1.45480229,\n",
       "        1.45480229, 1.19403598, 0.80434855, 0.44471788, 0.20180798],\n",
       "       [0.09157819, 0.20180798, 0.36500434, 0.54184012, 0.66017294,\n",
       "        0.66017294, 0.54184012, 0.36500434, 0.20180798, 0.09157819]])"
      ]
     },
     "execution_count": 3,
     "metadata": {},
     "output_type": "execute_result"
    }
   ],
   "source": [
    "Gaussian"
   ]
  },
  {
   "cell_type": "code",
   "execution_count": 4,
   "metadata": {},
   "outputs": [
    {
     "data": {
      "image/png": "[encoded data removed]",
      "text/plain": [
       "<Figure size 432x288 with 1 Axes>"
      ]
     },
     "metadata": {
      "needs_background": "light"
     },
     "output_type": "display_data"
    }
   ],
   "source": [
    "fig, ax = plt.subplots(constrained_layout=True)\n",
    "im = ax.imshow(Gaussian)"
   ]
  },
  {
   "cell_type": "code",
   "execution_count": 5,
   "metadata": {},
   "outputs": [
    {
     "data": {
      "text/plain": [
       "array([0.09157819, 0.20180798, 0.36500434, 0.54184012, 0.66017294,\n",
       "       0.66017294, 0.54184012, 0.36500434, 0.20180798, 0.09157819,\n",
       "       0.20180798, 0.44471788, 0.80434855, 1.19403598, 1.45480229,\n",
       "       1.45480229, 1.19403598, 0.80434855, 0.44471788, 0.20180798,\n",
       "       0.36500434, 0.80434855, 1.45480229, 2.15961883, 2.63125943,\n",
       "       2.63125943, 2.15961883, 1.45480229, 0.80434855, 0.36500434,\n",
       "       0.54184012, 1.19403598, 2.15961883, 3.20590194, 3.90604101,\n",
       "       3.90604101, 3.20590194, 2.15961883, 1.19403598, 0.54184012,\n",
       "       0.66017294, 1.45480229, 2.63125943, 3.90604101, 4.75908392,\n",
       "       4.75908392, 3.90604101, 2.63125943, 1.45480229, 0.66017294,\n",
       "       0.66017294, 1.45480229, 2.63125943, 3.90604101, 4.75908392,\n",
       "       4.75908392, 3.90604101, 2.63125943, 1.45480229, 0.66017294,\n",
       "       0.54184012, 1.19403598, 2.15961883, 3.20590194, 3.90604101,\n",
       "       3.90604101, 3.20590194, 2.15961883, 1.19403598, 0.54184012,\n",
       "       0.36500434, 0.80434855, 1.45480229, 2.15961883, 2.63125943,\n",
       "       2.63125943, 2.15961883, 1.45480229, 0.80434855, 0.36500434,\n",
       "       0.20180798, 0.44471788, 0.80434855, 1.19403598, 1.45480229,\n",
       "       1.45480229, 1.19403598, 0.80434855, 0.44471788, 0.20180798,\n",
       "       0.09157819, 0.20180798, 0.36500434, 0.54184012, 0.66017294,\n",
       "       0.66017294, 0.54184012, 0.36500434, 0.20180798, 0.09157819])"
      ]
     },
     "execution_count": 5,
     "metadata": {},
     "output_type": "execute_result"
    }
   ],
   "source": [
    "Gaussian.flatten()"
   ]
  },
  {
   "cell_type": "markdown",
   "metadata": {},
   "source": [
    "## Save to file"
   ]
  },
  {
   "cell_type": "code",
   "execution_count": 6,
   "metadata": {},
   "outputs": [],
   "source": [
    "np.savetxt(\"temperatureActual.csv\", Gaussian.flatten(), delimiter=\",\")"
   ]
  },
  {
   "cell_type": "code",
   "execution_count": null,
   "metadata": {},
   "outputs": [],
   "source": []
  }
 ],
 "metadata": {
  "kernelspec": {
   "display_name": "Python 3",
   "language": "python",
   "name": "python3"
  },
  "language_info": {
   "codemirror_mode": {
    "name": "ipython",
    "version": 3
   },
   "file_extension": ".py",
   "mimetype": "text/x-python",
   "name": "python",
   "nbconvert_exporter": "python",
   "pygments_lexer": "ipython3",
   "version": "3.8.3"
  }
 },
 "nbformat": 4,
 "nbformat_minor": 4
}
